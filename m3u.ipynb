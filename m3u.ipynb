{
 "cells": [
  {
   "cell_type": "code",
   "execution_count": 2,
   "metadata": {},
   "outputs": [
    {
     "name": "stdout",
     "output_type": "stream",
     "text": [
      "Merged M3U file created as playlist.m3u\n"
     ]
    }
   ],
   "source": [
    "import os\n",
    "\n",
    "# Directory containing your M3U files\n",
    "input_dir = \"./file\"\n",
    "output_file = \"playlist.m3u\"\n",
    "\n",
    "# Initialize the merged content\n",
    "merged_content = \"\"\n",
    "\n",
    "# Iterate over each file in the folder\n",
    "for filename in os.listdir(input_dir):\n",
    "    if filename.endswith(\".m3u\"):\n",
    "        with open(os.path.join(input_dir, filename), 'r') as f:\n",
    "            merged_content += f.read().strip() + \"\\n\\n\"  # Add file content and separate with a new line\n",
    "\n",
    "# Write the merged content to a new M3U file\n",
    "with open(output_file, 'w') as f:\n",
    "    f.write(merged_content)\n",
    "\n",
    "print(f\"Merged M3U file created as {output_file}\")\n"
   ]
  },
  {
   "cell_type": "code",
   "execution_count": null,
   "metadata": {},
   "outputs": [],
   "source": []
  }
 ],
 "metadata": {
  "kernelspec": {
   "display_name": "Python 3",
   "language": "python",
   "name": "python3"
  },
  "language_info": {
   "codemirror_mode": {
    "name": "ipython",
    "version": 3
   },
   "file_extension": ".py",
   "mimetype": "text/x-python",
   "name": "python",
   "nbconvert_exporter": "python",
   "pygments_lexer": "ipython3",
   "version": "3.7.3"
  }
 },
 "nbformat": 4,
 "nbformat_minor": 2
}
