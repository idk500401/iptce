{
 "cells": [
  {
   "cell_type": "code",
   "execution_count": 2,
   "metadata": {},
   "outputs": [
    {
     "name": "stdout",
     "output_type": "stream",
     "text": [
      "All m3u files have been successfully merged into merged_playlist.m3u\n"
     ]
    }
   ],
   "source": [
    "import os\n",
    "\n",
    "# Function to merge m3u files\n",
    "def merge_m3u_files(input_folder, output_file):\n",
    "    merged_content = set()  # Use a set to avoid duplicate entries\n",
    "    \n",
    "    # Iterate over all files in the input folder\n",
    "    for filename in os.listdir(input_folder):\n",
    "        if filename.endswith(\".m3u\"):\n",
    "            file_path = os.path.join(input_folder, filename)\n",
    "            \n",
    "            # Open each m3u file and read its content\n",
    "            with open(file_path, 'r', encoding='utf-8') as f:\n",
    "                content = f.readlines()\n",
    "                \n",
    "                # Add each line to the set to avoid duplicates\n",
    "                for line in content:\n",
    "                    # Only add lines that are not comments or empty\n",
    "                    if line.strip() and not line.startswith(\"#\"):\n",
    "                        merged_content.add(line.strip())\n",
    "    \n",
    "    # Write the merged content to the output m3u file\n",
    "    with open(output_file, 'w', encoding='utf-8') as f_out:\n",
    "        # Writing the header\n",
    "        f_out.write(\"#EXTM3U\\n\")\n",
    "        \n",
    "        # Writing the unique media entries\n",
    "        for entry in merged_content:\n",
    "            f_out.write(f\"{entry}\\n\")\n",
    "    \n",
    "    print(f\"All m3u files have been successfully merged into {output_file}\")\n",
    "\n",
    "# Example usage\n",
    "input_folder = './'  # Replace with your folder containing the .m3u files\n",
    "output_file = 'merged_playlist.m3u'  # Replace with the desired output file path\n",
    "\n",
    "merge_m3u_files(input_folder, output_file)\n"
   ]
  },
  {
   "cell_type": "code",
   "execution_count": null,
   "metadata": {},
   "outputs": [],
   "source": []
  }
 ],
 "metadata": {
  "kernelspec": {
   "display_name": "Python 3",
   "language": "python",
   "name": "python3"
  },
  "language_info": {
   "codemirror_mode": {
    "name": "ipython",
    "version": 3
   },
   "file_extension": ".py",
   "mimetype": "text/x-python",
   "name": "python",
   "nbconvert_exporter": "python",
   "pygments_lexer": "ipython3",
   "version": "3.7.3"
  }
 },
 "nbformat": 4,
 "nbformat_minor": 2
}
